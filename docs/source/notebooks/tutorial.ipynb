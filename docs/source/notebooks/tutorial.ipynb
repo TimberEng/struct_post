{
 "cells": [
  {
   "cell_type": "markdown",
   "id": "840efb1a",
   "metadata": {},
   "source": [
    "# Tutorial\n",
    "\n",
    "How to use the coupon function."
   ]
  },
  {
   "cell_type": "code",
   "execution_count": null,
   "id": "009ca281",
   "metadata": {},
   "outputs": [],
   "source": [
    "import struct_post as sp"
   ]
  },
  {
   "cell_type": "markdown",
   "id": "03d2663f",
   "metadata": {},
   "source": [
    "## Read coupon test data file"
   ]
  }
 ],
 "metadata": {
  "kernelspec": {
   "display_name": "struct-post",
   "language": "python",
   "name": "python3"
  },
  "language_info": {
   "name": "python",
   "version": "3.10.18"
  }
 },
 "nbformat": 4,
 "nbformat_minor": 5
}
